{
 "cells": [
  {
   "cell_type": "code",
   "execution_count": 1,
   "metadata": {
    "collapsed": true
   },
   "outputs": [],
   "source": [
    "import gensim\n",
    "\n",
    "# Load Google's pre-trained Word2Vec model.\n",
    "model = gensim.models.KeyedVectors.load_word2vec_format('/Users/brandonbryant/model/GoogleNews-vectors-negative300.bin', binary=True)"
   ]
  },
  {
   "cell_type": "code",
   "execution_count": 3,
   "metadata": {},
   "outputs": [
    {
     "name": "stderr",
     "output_type": "stream",
     "text": [
      "/Users/brandonbryant/anaconda/envs/deeplearning/lib/python3.6/site-packages/ipykernel_launcher.py:1: DeprecationWarning: Call to deprecated `wv` (Attribute will be removed in 4.0.0, use self instead).\n",
      "  \"\"\"Entry point for launching an IPython kernel.\n"
     ]
    }
   ],
   "source": [
    "word_vectors = model.wv\n",
    "del model"
   ]
  },
  {
   "cell_type": "code",
   "execution_count": 4,
   "metadata": {
    "collapsed": true
   },
   "outputs": [],
   "source": [
    "import nltk \n",
    "from nltk import word_tokenize, sent_tokenize\n",
    "from sklearn.manifold import TSNE"
   ]
  },
  {
   "cell_type": "code",
   "execution_count": 5,
   "metadata": {},
   "outputs": [
    {
     "data": {
      "text/plain": [
       "[('Hot', 0.665973424911499),\n",
       " ('hottest', 0.6050904989242554),\n",
       " ('hotter', 0.5794501900672913),\n",
       " ('CHEFS_Chefs', 0.5725089907646179),\n",
       " ('sizzling', 0.5456805229187012),\n",
       " ('scorching', 0.5294975638389587),\n",
       " ('teardrop_shaped_VTA', 0.5230513215065002),\n",
       " ('cool', 0.515114963054657),\n",
       " ('briquette_iron', 0.5066832304000854),\n",
       " ('heated', 0.5010007619857788)]"
      ]
     },
     "execution_count": 5,
     "metadata": {},
     "output_type": "execute_result"
    }
   ],
   "source": [
    "word_vectors.most_similar(\"hot\")"
   ]
  },
  {
   "cell_type": "code",
   "execution_count": 11,
   "metadata": {},
   "outputs": [
    {
     "data": {
      "text/plain": [
       "(300,)"
      ]
     },
     "execution_count": 11,
     "metadata": {},
     "output_type": "execute_result"
    }
   ],
   "source": [
    "word_vectors.get_vector(\"king\").shape"
   ]
  },
  {
   "cell_type": "code",
   "execution_count": 7,
   "metadata": {},
   "outputs": [
    {
     "data": {
      "text/plain": [
       "[('queen', 0.7118192911148071),\n",
       " ('monarch', 0.6189674735069275),\n",
       " ('princess', 0.5902431011199951),\n",
       " ('crown_prince', 0.549946129322052),\n",
       " ('prince', 0.5377321243286133),\n",
       " ('kings', 0.5236844420433044),\n",
       " ('Queen_Consort', 0.5235945582389832),\n",
       " ('queens', 0.5181134343147278),\n",
       " ('sultan', 0.5098593235015869),\n",
       " ('monarchy', 0.5087411999702454)]"
      ]
     },
     "execution_count": 7,
     "metadata": {},
     "output_type": "execute_result"
    }
   ],
   "source": [
    "word_vectors.most_similar(positive=['woman', 'king'], negative=['man'])"
   ]
  },
  {
   "cell_type": "code",
   "execution_count": 10,
   "metadata": {},
   "outputs": [
    {
     "data": {
      "text/plain": [
       "[('Red_Sox', 0.5653167366981506),\n",
       " ('Beantown', 0.557723343372345),\n",
       " ('Thomas_M._Menino', 0.5358964800834656),\n",
       " ('Thomas_Menino', 0.5332446098327637),\n",
       " ('Boston_Celtics', 0.5270304083824158),\n",
       " ('Fenway', 0.5207287073135376),\n",
       " ('Fenway_Park', 0.5137909054756165),\n",
       " ('Tampa_Bay', 0.5062916278839111),\n",
       " ('Menino', 0.5051321983337402),\n",
       " ('Dustin_Pedroia_lazily', 0.5030261278152466)]"
      ]
     },
     "execution_count": 10,
     "metadata": {},
     "output_type": "execute_result"
    }
   ],
   "source": [
    "word_vectors.most_similar(positive=['Boston', 'Celtics'], negative=['basketball'])"
   ]
  },
  {
   "cell_type": "code",
   "execution_count": 13,
   "metadata": {},
   "outputs": [
    {
     "data": {
      "text/plain": [
       "[('Red_Sox', 0.7639075517654419),\n",
       " ('Phillies', 0.6969055533409119),\n",
       " ('Yankees', 0.6772766709327698),\n",
       " ('Sox', 0.6627445220947266),\n",
       " ('Rays', 0.6407117247581482),\n",
       " ('Boston_Red_Sox', 0.640171468257904),\n",
       " ('Dodgers', 0.632729172706604),\n",
       " ('Bosox', 0.6306114792823792),\n",
       " ('Phils', 0.6268517971038818),\n",
       " ('Sawx', 0.6185387969017029)]"
      ]
     },
     "execution_count": 13,
     "metadata": {},
     "output_type": "execute_result"
    }
   ],
   "source": [
    "word_vectors.most_similar(positive=['baseball', 'Celtics'], negative=['basketball'])"
   ]
  },
  {
   "cell_type": "code",
   "execution_count": 18,
   "metadata": {
    "scrolled": true
   },
   "outputs": [
    {
     "data": {
      "text/plain": [
       "[('Schrodinger_Cat', 0.47642460465431213),\n",
       " ('ZephirAWT', 0.45552968978881836),\n",
       " ('newb', 0.4551093578338623),\n",
       " ('Stephen_Hawkings', 0.45482489466667175),\n",
       " ('schmoe', 0.44926518201828003),\n",
       " ('mel_gibson', 0.44337356090545654),\n",
       " ('sciencey', 0.4433129131793976),\n",
       " ('einstein', 0.4426528811454773),\n",
       " ('Dave_Oshry', 0.4411941170692444),\n",
       " ('Maxwell_equations', 0.44037434458732605)]"
      ]
     },
     "execution_count": 18,
     "metadata": {},
     "output_type": "execute_result"
    }
   ],
   "source": [
    "word_vectors.most_similar(positive=['michael_jordan', 'physics', 'person'], negative=['basketball'])"
   ]
  },
  {
   "cell_type": "code",
   "execution_count": null,
   "metadata": {
    "collapsed": true
   },
   "outputs": [],
   "source": [
    "word_vectors.most_similar(positive=['michael_jordan', 'physics', 'person'], negative=['basketball'])"
   ]
  },
  {
   "cell_type": "code",
   "execution_count": 19,
   "metadata": {},
   "outputs": [
    {
     "data": {
      "text/plain": [
       "[('Schrodinger_Cat', 0.47642460465431213),\n",
       " ('ZephirAWT', 0.45552968978881836),\n",
       " ('newb', 0.4551093578338623),\n",
       " ('Stephen_Hawkings', 0.45482489466667175),\n",
       " ('schmoe', 0.44926518201828003),\n",
       " ('mel_gibson', 0.44337356090545654),\n",
       " ('sciencey', 0.4433129131793976),\n",
       " ('einstein', 0.4426528811454773),\n",
       " ('Dave_Oshry', 0.4411941170692444),\n",
       " ('Maxwell_equations', 0.44037434458732605)]"
      ]
     },
     "execution_count": 19,
     "metadata": {},
     "output_type": "execute_result"
    }
   ],
   "source": [
    "word_vectors.most_similar(positive=['michael_jordan', 'physics', 'person'], negative=['basketball'])"
   ]
  },
  {
   "cell_type": "code",
   "execution_count": 39,
   "metadata": {},
   "outputs": [
    {
     "data": {
      "text/plain": [
       "[('dogs', 0.8680489659309387),\n",
       " ('puppy', 0.8106429576873779),\n",
       " ('pit_bull', 0.7803961038589478),\n",
       " ('pooch', 0.7627376914024353),\n",
       " ('cat', 0.760945737361908),\n",
       " ('golden_retriever', 0.7500901818275452),\n",
       " ('German_shepherd', 0.7465174198150635),\n",
       " ('Rottweiler', 0.7437614798545837),\n",
       " ('beagle', 0.7418621778488159),\n",
       " ('pup', 0.7406911253929138),\n",
       " ('Pomeranian', 0.7238621115684509),\n",
       " ('canines', 0.7221246957778931),\n",
       " ('chihuahua', 0.7173917293548584),\n",
       " ('pet', 0.7164785861968994),\n",
       " ('schnauzer', 0.7128096222877502),\n",
       " ('Shih_Tzu', 0.7095322608947754),\n",
       " ('pit_bull_mix', 0.707578182220459),\n",
       " ('dachshund', 0.707231879234314),\n",
       " ('Labrador_retriever', 0.7069686651229858),\n",
       " ('border_collie', 0.7046386003494263),\n",
       " ('Doberman', 0.7044620513916016),\n",
       " ('Dog', 0.6978709101676941),\n",
       " ('rottweiler', 0.6949849128723145),\n",
       " ('canine', 0.6918289661407471),\n",
       " ('cocker_spaniel', 0.6914474368095398),\n",
       " ('pitbull', 0.6912811994552612),\n",
       " ('Sheltie', 0.6891899704933167),\n",
       " ('bullmastiff', 0.6889656782150269),\n",
       " ('Yorkshire_terrier', 0.6885668039321899),\n",
       " ('Rottweiler_mix', 0.6883019208908081),\n",
       " ('Golden_Retriever', 0.6845719814300537),\n",
       " ('basset_hound', 0.681455671787262),\n",
       " ('sheltie', 0.6771528124809265),\n",
       " ('pit_bulls', 0.6767823696136475),\n",
       " ('yellow_Labrador_retriever', 0.6767305731773376),\n",
       " ('Staffie', 0.6759147644042969),\n",
       " ('shih_tzu', 0.675323486328125),\n",
       " ('Lhasa_Apso', 0.6742167472839355),\n",
       " ('bull_mastiff', 0.6722950339317322),\n",
       " ('Shitzu', 0.6720370054244995),\n",
       " ('collie', 0.6714410185813904),\n",
       " ('bull_terrier', 0.671377420425415),\n",
       " ('poodle_mix', 0.6711660623550415),\n",
       " ('Siberian_husky', 0.6695347428321838),\n",
       " ('pitt_bull', 0.6689286828041077),\n",
       " ('Doberman_pinscher', 0.667718768119812),\n",
       " ('Rottweiller', 0.6664650440216064),\n",
       " ('kitten', 0.6659880876541138),\n",
       " ('cats', 0.6653180718421936),\n",
       " ('puppies', 0.6637066006660461),\n",
       " ('kennel', 0.6635868549346924),\n",
       " ('pug', 0.6611860990524292),\n",
       " ('springer_spaniel', 0.6610764861106873),\n",
       " ('Rotweiller', 0.6609631776809692),\n",
       " ('terrier', 0.6599656343460083),\n",
       " ('fox_terrier', 0.6550260782241821),\n",
       " ('poodle', 0.6549598574638367),\n",
       " ('pets', 0.6538857221603394),\n",
       " ('Labrador_retriever_mix', 0.6531784534454346),\n",
       " ('labrador', 0.6527199149131775),\n",
       " ('Weimaraner', 0.6520816683769226),\n",
       " ('doggie', 0.6515337824821472),\n",
       " ('blue_heeler_mix', 0.6509417295455933),\n",
       " ('rotweiller', 0.6506529450416565),\n",
       " ('Miniature_Pinscher', 0.6505340933799744),\n",
       " ('Rottweilers', 0.6502281427383423),\n",
       " ('pooches', 0.6501281261444092),\n",
       " ('miniature_dachshund', 0.6493764519691467),\n",
       " ('miniature_poodle', 0.6460705995559692),\n",
       " ('black_Labrador_retriever', 0.6454673409461975),\n",
       " ('rottweiller', 0.6450475454330444),\n",
       " ('doberman', 0.6445612907409668),\n",
       " ('jack_russell', 0.6439002752304077),\n",
       " ('animal', 0.6438012719154358),\n",
       " ('Cairn_Terrier', 0.6435617804527283),\n",
       " ('Yorkie', 0.6417293548583984),\n",
       " ('pitbulls', 0.6408740878105164),\n",
       " ('Cocker_Spaniel', 0.6400389671325684),\n",
       " ('German_shepherd_mix', 0.6398844122886658),\n",
       " ('Border_Collie', 0.6388263702392578),\n",
       " ('cockapoo', 0.6384056210517883),\n",
       " ('blue_heeler', 0.6382940411567688),\n",
       " ('mastiff_mix', 0.6370192766189575),\n",
       " ('Staffordshire_terrier', 0.6368926167488098),\n",
       " ('stray_cat', 0.6361820101737976),\n",
       " ('german_shepherd', 0.6361235976219177),\n",
       " ('Brittany_spaniel', 0.6352739930152893),\n",
       " ('Dachshund', 0.6351849436759949),\n",
       " ('Basset_Hound', 0.6343516707420349),\n",
       " ('English_Springer_Spaniel', 0.6337088346481323),\n",
       " ('labrador_retriever', 0.6334188580513),\n",
       " ('Shi_Tzu', 0.6331778764724731),\n",
       " ('Labrador_puppy', 0.6321282386779785),\n",
       " ('malamute', 0.6313683986663818),\n",
       " ('canine_companion', 0.6307942867279053),\n",
       " ('mutt', 0.6306458115577698),\n",
       " ('Cane_Corso', 0.6300138235092163),\n",
       " ('mastiff', 0.6299800276756287),\n",
       " ('Lhasa_apso', 0.6284263730049133),\n",
       " ('yellow_labrador', 0.6283138990402222)]"
      ]
     },
     "execution_count": 39,
     "metadata": {},
     "output_type": "execute_result"
    }
   ],
   "source": [
    "word_vectors.most_similar(positive='dog', topn=100)"
   ]
  }
 ],
 "metadata": {
  "kernelspec": {
   "display_name": "Python 3",
   "language": "python",
   "name": "python3"
  },
  "language_info": {
   "codemirror_mode": {
    "name": "ipython",
    "version": 3
   },
   "file_extension": ".py",
   "mimetype": "text/x-python",
   "name": "python",
   "nbconvert_exporter": "python",
   "pygments_lexer": "ipython3",
   "version": "3.6.3"
  }
 },
 "nbformat": 4,
 "nbformat_minor": 2
}
